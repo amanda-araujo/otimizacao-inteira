{
  "nbformat": 4,
  "nbformat_minor": 0,
  "metadata": {
    "colab": {
      "provenance": []
    },
    "kernelspec": {
      "name": "python3",
      "display_name": "Python 3"
    },
    "language_info": {
      "name": "python"
    }
  },
  "cells": [
    {
      "cell_type": "markdown",
      "source": [
        "**SME0213 Otimização Inteira - ICMC-USP**\n",
        "\n",
        "Amanda Araujo Silva - 10260441"
      ],
      "metadata": {
        "id": "hppPcS2KBwml"
      }
    },
    {
      "cell_type": "code",
      "source": [
        "%pip install gurobipy"
      ],
      "metadata": {
        "colab": {
          "base_uri": "https://localhost:8080/"
        },
        "id": "t2HskMKwCAmm",
        "outputId": "a7d5598f-2519-4c6e-d23c-41e505730720"
      },
      "execution_count": 6,
      "outputs": [
        {
          "output_type": "stream",
          "name": "stdout",
          "text": [
            "Requirement already satisfied: gurobipy in /usr/local/lib/python3.11/dist-packages (12.0.3)\n"
          ]
        }
      ]
    },
    {
      "cell_type": "code",
      "source": [
        "import gurobipy as gp"
      ],
      "metadata": {
        "id": "o84Q0QasCewd"
      },
      "execution_count": 2,
      "outputs": []
    },
    {
      "cell_type": "markdown",
      "source": [
        "# Atividade Complementar 2: Corte de jumbo\n",
        "\n"
      ],
      "metadata": {
        "id": "47zHo4ghcor2"
      }
    },
    {
      "cell_type": "markdown",
      "source": [
        "## Problema de corte"
      ],
      "metadata": {
        "id": "rQ3oE1rnsmTR"
      }
    },
    {
      "cell_type": "markdown",
      "source": [
        "Problema clássico de otimização: problema de corte.\n",
        "\n",
        "$\\quad$ Dados do problema:\n",
        "\n",
        "*    Comprimento bobina jumbo $L$\n",
        "*    Comprimentos dos itens $l_i$: comprimento item $i$\n",
        "*    Demanda de cada item $d_i$: demanda item $i$\n",
        "\n",
        "$\\quad$Modelagem geral (Kantorovich):\n",
        "\n",
        "> $Min \\sum_{k = 1}^K y_k$\n",
        "\n",
        "> $S.a. \\sum_{k = 1}^K \\alpha_{jk} \\ge d_j \\quad j = 1, ..., n$\n",
        "\n",
        "> $l_1\\alpha_{1k} + l_2\\alpha_{2k} + ... + l_n\\alpha_{nk} \\le L y_k \\quad k = 1, ..., K$\n",
        "\n",
        "> $\\alpha_{jk} \\ge 0$ e inteiro $\\quad j = 1, ..., n \\quad k = 1, ..., K$\n",
        "\n",
        "> $y_k \\in \\{0, 1\\} \\quad k = 1, ..., K$\n",
        "\n",
        "sendo:\n",
        "*    $y_k$: variável de decisão binária; 1 se a barra $k$ é cortada, 0 c.c.;\n",
        "*    $\\alpha_{jk}$: variável de decisão inteira; número de vezes que o item $j$ é cortado na barra $k$;\n",
        "*    $K$: valor limite para o número de barras (estimativa);\n",
        "*    $n$: número de itens."
      ],
      "metadata": {
        "id": "9AwphpWUiLqY"
      }
    },
    {
      "cell_type": "markdown",
      "source": [
        "## Implementação Kantorovich"
      ],
      "metadata": {
        "id": "MJOPMP2MsrF0"
      }
    },
    {
      "cell_type": "code",
      "source": [
        "from gurobipy import Model, GRB\n",
        "import math\n",
        "\n",
        "# Criação do Modelo\n",
        "model = Model(\"jumbo\")\n",
        "\n",
        "# Dados do problema\n",
        "L = 400.0 # tamanho bobina jumbo\n",
        "l = [40.0, 45.0, 55.0, 60.0] # tamanho itens\n",
        "d = [12.0, 20.0, 42.0, 18.0] # demanda itens\n",
        "\n",
        "## Parâmetros\n",
        "n = 4   # número de itens\n",
        "K = (int(math.ceil( sum(l[i] * d[i] for i in range(n))/L ))) # valor limite nº de barras; menor limiar\n",
        "print(\"Tamanho bobina jumbo:\", L)\n",
        "print(\"Demanda total:\", sum(l[i] * d[i] for i in range(n)))\n",
        "print(\"Valor limite K: \", K)\n",
        "print(\"\\n\")\n",
        "\n",
        "# Adição de variáveis\n",
        "alpha = model.addVars(n, K, vtype=GRB.INTEGER, name=\"alpha\", lb=0) # inteira não negativa Z+\n",
        "y = model.addVars(K, vtype=GRB.BINARY, name=\"y\")                   # binária\n",
        "\n",
        "# Definição função objetivo: minimizar número de barras utilizadas\n",
        "model.setObjective(\n",
        "    sum(y[k] for k in range(K)),\n",
        "    GRB.MINIMIZE\n",
        ")\n",
        "\n",
        "# Restrições\n",
        "## Demanda\n",
        "for j in range(n):\n",
        "  model.addConstr(sum(alpha[j, k] for k in range(K)) >= d[j])\n",
        "\n",
        "## Tamanho bobina jumbo\n",
        "for k in range(K):\n",
        "  model.addConstr(sum(l[i] * alpha[i, k] for i in range(n)) <= L * y[k])\n",
        "\n",
        "## Restrição alpha >= 0 já add pelo uso de lb (lower bound) ao definir alpha\n",
        "## Restrição y binário já add ao definir y\n",
        "\n",
        "# Otimização\n",
        "model.optimize()\n",
        "\n",
        "\n",
        "# Escrita do modelo em formato LP\n",
        "model.write('jumbo.lp')\n",
        "\n",
        "# Salva a solução do problema\n",
        "model.write('jumbo.sol')\n",
        "\n",
        "# Exibe os resultados\n",
        "if model.status == GRB.OPTIMAL:\n",
        "    for i in range(n):\n",
        "      for k in range(K):\n",
        "        if alpha[i, k].X > 0:\n",
        "          print(f\"alpha[{i}, {k}] = {alpha[i, k].X}\")\n",
        "\n",
        "    for k in range(K):\n",
        "      if y[k].X > 0:\n",
        "        print(f\"y[{k}] = {y[k].X}\")\n",
        "\n",
        "    print(f\"z = {model.ObjVal}\")\n",
        "\n",
        "else:\n",
        "    print(\"Solução ótima não encontrada.\")"
      ],
      "metadata": {
        "colab": {
          "base_uri": "https://localhost:8080/"
        },
        "id": "jGOCKKHocvaP",
        "outputId": "21265ecc-713f-483f-eaa5-dda6266ff4c6"
      },
      "execution_count": 13,
      "outputs": [
        {
          "output_type": "stream",
          "name": "stdout",
          "text": [
            "Tamanho bobina jumbo: 400.0\n",
            "Demanda total: 4770.0\n",
            "Valor limite K:  12\n",
            "\n",
            "\n",
            "Gurobi Optimizer version 12.0.3 build v12.0.3rc0 (linux64 - \"Ubuntu 22.04.4 LTS\")\n",
            "\n",
            "CPU model: Intel(R) Xeon(R) CPU @ 2.20GHz, instruction set [SSE2|AVX|AVX2]\n",
            "Thread count: 1 physical cores, 2 logical processors, using up to 2 threads\n",
            "\n",
            "Optimize a model with 16 rows, 60 columns and 108 nonzeros\n",
            "Model fingerprint: 0x99dd66f5\n",
            "Variable types: 0 continuous, 60 integer (12 binary)\n",
            "Coefficient statistics:\n",
            "  Matrix range     [1e+00, 4e+02]\n",
            "  Objective range  [1e+00, 1e+00]\n",
            "  Bounds range     [1e+00, 1e+00]\n",
            "  RHS range        [1e+01, 4e+01]\n",
            "Presolve time: 0.00s\n",
            "Presolved: 16 rows, 60 columns, 108 nonzeros\n",
            "Variable types: 0 continuous, 60 integer (12 binary)\n",
            "\n",
            "Root relaxation: objective 1.192500e+01, 45 iterations, 0.00 seconds (0.00 work units)\n",
            "\n",
            "    Nodes    |    Current Node    |     Objective Bounds      |     Work\n",
            " Expl Unexpl |  Obj  Depth IntInf | Incumbent    BestBd   Gap | It/Node Time\n",
            "\n",
            "     0     0   11.92500    0    9          -   11.92500      -     -    0s\n",
            "     0     0   11.92500    0   12          -   11.92500      -     -    0s\n",
            "     0     0   11.92500    0   12          -   11.92500      -     -    0s\n",
            "     0     0   11.92500    0   11          -   11.92500      -     -    0s\n",
            "     0     0   11.92500    0   11          -   11.92500      -     -    0s\n",
            "     0     0   11.92500    0    9          -   11.92500      -     -    0s\n",
            "     0     0   11.92500    0   13          -   11.92500      -     -    0s\n",
            "     0     0   11.92500    0   15          -   11.92500      -     -    0s\n",
            "     0     0   11.92500    0   15          -   11.92500      -     -    0s\n",
            "     0     0   12.00000    0   14          -   12.00000      -     -    0s\n",
            "     0     0   12.00000    0   14          -   12.00000      -     -    0s\n",
            "     0     0   12.00000    0   11          -   12.00000      -     -    0s\n",
            "     0     0   12.00000    0   13          -   12.00000      -     -    0s\n",
            "     0     0   12.00000    0   13          -   12.00000      -     -    0s\n",
            "H    0     0                      12.0000000   12.00000  0.00%     -    0s\n",
            "     0     0   12.00000    0   13   12.00000   12.00000  0.00%     -    0s\n",
            "\n",
            "Explored 1 nodes (153 simplex iterations) in 0.05 seconds (0.00 work units)\n",
            "Thread count was 2 (of 2 available processors)\n",
            "\n",
            "Solution count 1: 12 \n",
            "\n",
            "Optimal solution found (tolerance 1.00e-04)\n",
            "Best objective 1.200000000000e+01, best bound 1.200000000000e+01, gap 0.0000%\n",
            "alpha[0, 1] = 1.0\n",
            "alpha[0, 5] = 3.0\n",
            "alpha[0, 6] = 1.0\n",
            "alpha[0, 9] = 3.0\n",
            "alpha[0, 10] = 3.0\n",
            "alpha[0, 11] = 1.0\n",
            "alpha[1, 0] = 5.0\n",
            "alpha[1, 1] = 3.0\n",
            "alpha[1, 4] = 4.0\n",
            "alpha[1, 6] = 3.0\n",
            "alpha[1, 8] = 1.0\n",
            "alpha[1, 11] = 4.0\n",
            "alpha[2, 0] = 1.0\n",
            "alpha[2, 1] = 4.0\n",
            "alpha[2, 2] = 5.0\n",
            "alpha[2, 3] = 4.0\n",
            "alpha[2, 4] = 4.0\n",
            "alpha[2, 5] = 4.0\n",
            "alpha[2, 6] = 3.0\n",
            "alpha[2, 7] = 5.0\n",
            "alpha[2, 8] = 2.0\n",
            "alpha[2, 9] = 5.0\n",
            "alpha[2, 10] = 5.0\n",
            "alpha[3, 0] = 2.0\n",
            "alpha[3, 2] = 2.0\n",
            "alpha[3, 3] = 3.0\n",
            "alpha[3, 5] = 1.0\n",
            "alpha[3, 6] = 1.0\n",
            "alpha[3, 7] = 2.0\n",
            "alpha[3, 8] = 4.0\n",
            "alpha[3, 11] = 3.0\n",
            "y[0] = 1.0\n",
            "y[1] = 1.0\n",
            "y[2] = 1.0\n",
            "y[3] = 1.0\n",
            "y[4] = 1.0\n",
            "y[5] = 1.0\n",
            "y[6] = 1.0\n",
            "y[7] = 1.0\n",
            "y[8] = 1.0\n",
            "y[9] = 1.0\n",
            "y[10] = 1.0\n",
            "y[11] = 1.0\n",
            "z = 12.0\n"
          ]
        }
      ]
    },
    {
      "cell_type": "markdown",
      "source": [
        "## Padrões de corte encontrados, usos e perdas\n"
      ],
      "metadata": {
        "id": "AptllFpwnKSC"
      }
    },
    {
      "cell_type": "markdown",
      "source": [
        "Cada padrão de corte representa como uma bobina jumbo é utilizada, ou seja, quantas unidades de cada item são cortadas dela: representado pelas variáveis alpha[i, k].\n",
        "\n",
        "*    $\\alpha_{jk}$: número de vezes que o item $j$ é cortado na barra $k$"
      ],
      "metadata": {
        "id": "7snwRBJ4s1-P"
      }
    },
    {
      "cell_type": "markdown",
      "source": [
        "### Padrão de corte por bobina"
      ],
      "metadata": {
        "id": "xBzYSH_jyFrJ"
      }
    },
    {
      "cell_type": "code",
      "source": [
        "# Padrões de corte encontrados (por barra)\n",
        "\n",
        "print(\"\\n\" + \"=\" * 45)\n",
        "print(\"Padrões de corte encontrados (por bobina):\")\n",
        "print(\"=\" * 45)\n",
        "\n",
        "## Cabeçalho com os comprimentos dos itens\n",
        "header = \"Bobina | \" + \" | \".join([f\"{int(li):>4}\" for li in l])\n",
        "print(header)\n",
        "print(\"-\" * (len(header) + 3))\n",
        "\n",
        "## Para cada bobina usada, mostrar a linha com os cortes\n",
        "for k in range(K):\n",
        "    if y[k].X > 0.5:\n",
        "        linha = f\"{k:>6} |\"\n",
        "        for i in range(n):\n",
        "            qtd = int(alpha[i, k].X + 0.5)\n",
        "            cell = f\"{qtd:>4}\" if qtd > 0 else \"    \"\n",
        "            linha += f\" {cell} |\"\n",
        "        print(linha)\n",
        "\n",
        "print(\"=\" * 45)\n",
        "print(f\"Total de bobinas utilizadas: {int(model.ObjVal)}\")\n",
        "print(\"=\" * 45)"
      ],
      "metadata": {
        "colab": {
          "base_uri": "https://localhost:8080/"
        },
        "id": "X3Iy9spLmeI6",
        "outputId": "49093268-aab8-4db5-88ad-6890e22d75b4"
      },
      "execution_count": 4,
      "outputs": [
        {
          "output_type": "stream",
          "name": "stdout",
          "text": [
            "\n",
            "=============================================\n",
            "Padrões de corte encontrados (por bobina):\n",
            "=============================================\n",
            "Bobina |   40 |   45 |   55 |   60\n",
            "-------------------------------------\n",
            "     0 |      |    5 |    1 |    2 |\n",
            "     1 |    1 |    3 |    4 |      |\n",
            "     2 |      |      |    5 |    2 |\n",
            "     3 |      |      |    4 |    3 |\n",
            "     4 |      |    4 |    4 |      |\n",
            "     5 |    3 |      |    4 |    1 |\n",
            "     6 |    1 |    3 |    3 |    1 |\n",
            "     7 |      |      |    5 |    2 |\n",
            "     8 |      |    1 |    2 |    4 |\n",
            "     9 |    3 |      |    5 |      |\n",
            "    10 |    3 |      |    5 |      |\n",
            "    11 |    1 |    4 |      |    3 |\n",
            "=============================================\n",
            "Total de bobinas utilizadas: 12\n",
            "=============================================\n"
          ]
        }
      ]
    },
    {
      "cell_type": "markdown",
      "source": [
        "### Padrões de corte únicos, usos e perdas"
      ],
      "metadata": {
        "id": "XwVS_841yIz1"
      }
    },
    {
      "cell_type": "code",
      "source": [
        "# Padrões de corte únicos encontrados, usos e perdas\n",
        "from collections import defaultdict\n",
        "\n",
        "# Contar padrões de corte e calcular perdas\n",
        "padroes_unicos = defaultdict(int)\n",
        "padroes_perda = {}\n",
        "\n",
        "for k in range(K):\n",
        "    if y[k].X > 0.5:\n",
        "        padrao = tuple(int(alpha[i, k].X + 0.5) for i in range(n))\n",
        "        padroes_unicos[padrao] += 1\n",
        "        if padrao not in padroes_perda:\n",
        "            usado = sum(padrao[i] * l[i] for i in range(n))\n",
        "            perda = L - usado\n",
        "            padroes_perda[padrao] = perda\n",
        "\n",
        "print(f\"Total de bobinas utilizadas: {int(model.ObjVal)}\")\n",
        "print(f\"\\nNúmero de padrões de corte distintos: {len(padroes_unicos)}\")\n",
        "\n",
        "# Exibir a tabela final\n",
        "print(\"\\n\" + \"=\" * 45)\n",
        "print(f\"{'Padrão de corte':<20} | {'Usos':^5} | {'Perda':^6}\")\n",
        "print(\"-\" * 45)\n",
        "\n",
        "for padrao in padroes_unicos:\n",
        "    usos = padroes_unicos[padrao]\n",
        "    perda = padroes_perda[padrao]\n",
        "    print(f\"{str(padrao):<20} | {usos:^5} | {perda:^6.1f}\")\n",
        "\n",
        "print(\"=\" * 45)\n",
        "\n",
        "# Perda total\n",
        "perda_total = sum(padroes_unicos[p] * padroes_perda[p] for p in padroes_unicos)\n",
        "print(f\"Perda total acumulada: {perda_total:.1f}\")\n",
        "print(\"=\" * 45)\n"
      ],
      "metadata": {
        "colab": {
          "base_uri": "https://localhost:8080/"
        },
        "id": "Jku1ylwhxRzO",
        "outputId": "791424b4-6780-4cc3-d80d-bcca8ae3a83f"
      },
      "execution_count": 5,
      "outputs": [
        {
          "output_type": "stream",
          "name": "stdout",
          "text": [
            "Total de bobinas utilizadas: 12\n",
            "\n",
            "Número de padrões de corte distintos: 10\n",
            "\n",
            "=============================================\n",
            "Padrão de corte      | Usos  | Perda \n",
            "---------------------------------------------\n",
            "(0, 5, 1, 2)         |   1   |  0.0  \n",
            "(1, 3, 4, 0)         |   1   |  5.0  \n",
            "(0, 0, 5, 2)         |   2   |  5.0  \n",
            "(0, 0, 4, 3)         |   1   |  0.0  \n",
            "(0, 4, 4, 0)         |   1   |  0.0  \n",
            "(3, 0, 4, 1)         |   1   |  0.0  \n",
            "(1, 3, 3, 1)         |   1   |  0.0  \n",
            "(0, 1, 2, 4)         |   1   |  5.0  \n",
            "(3, 0, 5, 0)         |   2   |  5.0  \n",
            "(1, 4, 0, 3)         |   1   |  0.0  \n",
            "=============================================\n",
            "Perda total acumulada: 30.0\n",
            "=============================================\n"
          ]
        }
      ]
    }
  ]
}