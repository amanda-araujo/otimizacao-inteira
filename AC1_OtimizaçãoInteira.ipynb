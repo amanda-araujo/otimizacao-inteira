{
  "nbformat": 4,
  "nbformat_minor": 0,
  "metadata": {
    "colab": {
      "provenance": []
    },
    "kernelspec": {
      "name": "python3",
      "display_name": "Python 3"
    },
    "language_info": {
      "name": "python"
    }
  },
  "cells": [
    {
      "cell_type": "markdown",
      "source": [
        "**SME0213 Otimização Inteira - ICMC-USP**\n",
        "\n",
        "Amanda Araujo Silva - 10260441"
      ],
      "metadata": {
        "id": "hppPcS2KBwml"
      }
    },
    {
      "cell_type": "code",
      "source": [
        "%pip install gurobipy"
      ],
      "metadata": {
        "colab": {
          "base_uri": "https://localhost:8080/"
        },
        "id": "t2HskMKwCAmm",
        "outputId": "5c0624d0-2337-4c76-b9bc-8812cb915767"
      },
      "execution_count": 1,
      "outputs": [
        {
          "output_type": "stream",
          "name": "stdout",
          "text": [
            "Collecting gurobipy\n",
            "  Downloading gurobipy-12.0.3-cp311-cp311-manylinux2014_x86_64.manylinux_2_17_x86_64.whl.metadata (16 kB)\n",
            "Downloading gurobipy-12.0.3-cp311-cp311-manylinux2014_x86_64.manylinux_2_17_x86_64.whl (14.5 MB)\n",
            "\u001b[2K   \u001b[90m━━━━━━━━━━━━━━━━━━━━━━━━━━━━━━━━━━━━━━━━\u001b[0m \u001b[32m14.5/14.5 MB\u001b[0m \u001b[31m33.1 MB/s\u001b[0m eta \u001b[36m0:00:00\u001b[0m\n",
            "\u001b[?25hInstalling collected packages: gurobipy\n",
            "Successfully installed gurobipy-12.0.3\n"
          ]
        }
      ]
    },
    {
      "cell_type": "code",
      "source": [
        "import gurobipy as gp"
      ],
      "metadata": {
        "id": "o84Q0QasCewd"
      },
      "execution_count": 4,
      "outputs": []
    },
    {
      "cell_type": "markdown",
      "source": [
        "# Atividade Complementar 1: Morango do Amor\n",
        "\n"
      ],
      "metadata": {
        "id": "A-x8euJnBWZK"
      }
    },
    {
      "cell_type": "code",
      "execution_count": 23,
      "metadata": {
        "colab": {
          "base_uri": "https://localhost:8080/"
        },
        "id": "9A-kGMMSBVz2",
        "outputId": "48f086f0-3df7-41d3-b906-6e064ceaa642"
      },
      "outputs": [
        {
          "output_type": "stream",
          "name": "stdout",
          "text": [
            "Gurobi Optimizer version 12.0.3 build v12.0.3rc0 (linux64 - \"Ubuntu 22.04.4 LTS\")\n",
            "\n",
            "CPU model: Intel(R) Xeon(R) CPU @ 2.20GHz, instruction set [SSE2|AVX|AVX2]\n",
            "Thread count: 1 physical cores, 2 logical processors, using up to 2 threads\n",
            "\n",
            "Optimize a model with 4 rows, 6 columns and 12 nonzeros\n",
            "Model fingerprint: 0x5234d211\n",
            "Variable types: 0 continuous, 6 integer (3 binary)\n",
            "Coefficient statistics:\n",
            "  Matrix range     [1e+00, 3e+01]\n",
            "  Objective range  [2e+00, 5e+00]\n",
            "  Bounds range     [1e+00, 1e+00]\n",
            "  RHS range        [1e+02, 1e+02]\n",
            "Found heuristic solution: objective -0.0000000\n",
            "Found heuristic solution: objective 144.5000000\n",
            "Presolve time: 0.00s\n",
            "Presolved: 4 rows, 6 columns, 12 nonzeros\n",
            "Variable types: 0 continuous, 6 integer (3 binary)\n",
            "Found heuristic solution: objective 174.5000000\n",
            "\n",
            "Root relaxation: objective 2.084565e+02, 3 iterations, 0.00 seconds (0.00 work units)\n",
            "\n",
            "    Nodes    |    Current Node    |     Objective Bounds      |     Work\n",
            " Expl Unexpl |  Obj  Depth IntInf | Incumbent    BestBd   Gap | It/Node Time\n",
            "\n",
            "     0     0  208.45652    0    2  174.50000  208.45652  19.5%     -    0s\n",
            "H    0     0                     177.5000000  208.45652  17.4%     -    0s\n",
            "H    0     0                     184.7000000  208.45652  12.9%     -    0s\n",
            "H    0     0                     188.7000000  208.45652  10.5%     -    0s\n",
            "*    0     0               0     189.5000000  189.50000  0.00%     -    0s\n",
            "\n",
            "Cutting planes:\n",
            "  Gomory: 1\n",
            "\n",
            "Explored 1 nodes (5 simplex iterations) in 0.03 seconds (0.00 work units)\n",
            "Thread count was 2 (of 2 available processors)\n",
            "\n",
            "Solution count 7: 189.5 188.7 184.7 ... -0\n",
            "\n",
            "Optimal solution found (tolerance 1.00e-04)\n",
            "Best objective 1.895000000000e+02, best bound 1.895000000000e+02, gap 0.0000%\n",
            "x[0] = 10.0\n",
            "y[0] = 1.0\n",
            "x[1] = -0.0\n",
            "y[1] = -0.0\n",
            "x[2] = 30.0\n",
            "y[2] = 1.0\n",
            "z = 189.5\n",
            "Tempo de trabalho (minutos):  120.0\n"
          ]
        }
      ],
      "source": [
        "from gurobipy import Model, GRB\n",
        "\n",
        "# Criação do Modelo\n",
        "model = Model(\"morango\")\n",
        "\n",
        "# Parêmetros\n",
        "n = 3  # número de componentes (tipos de morango: T, B, M)\n",
        "M = 30 # Big M: relação x e y (suficientemente grande dado o problema)\n",
        "\n",
        "## Dados do problema\n",
        "cprep = [3.0, 2.5, 3.5] # Custos de preparação (fixo)\n",
        "cprod = [1.0, 1.5, 1.8] # Custos de produção porção\n",
        "tprep = [15, 15, 18]    # Tempo de preparação (fixo) (minutos)\n",
        "tprod = [1.8, 1.8, 2.3] # Tempo de produção (minutos)\n",
        "valor = [5.0, 4.5, 7.0] # Valor de venda\n",
        "tmax = 120.0 # limitante da produção (2h de trabalho)\n",
        "\n",
        "# Adição de variáveis\n",
        "x = model.addVars(n, vtype=GRB.INTEGER, name=\"x\", lb=0) # inteira não negativa Z+\n",
        "y = model.addVars(n, vtype=GRB.BINARY, name=\"y\")        # binária\n",
        "\n",
        "# Definição função objetivo: maximizar lucro (vendas - custos)\n",
        "model.setObjective(\n",
        "    sum(valor[i] * x[i] - (cprod[i] * x[i] + cprep[i] * y[i]) for i in range(n)),\n",
        "    GRB.MAXIMIZE\n",
        ")\n",
        "\n",
        "# Restrições\n",
        "## Tempo\n",
        "model.addConstr(sum(tprod[i] * x[i] + tprep[i] * y[i] for i in range(n)) <= tmax)\n",
        "\n",
        "## Big M: relação x e y\n",
        "for i in range(n):\n",
        "  model.addConstr(x[i] <= M * y[i])\n",
        "\n",
        "## Restrição x >= 0 já add pelo uso de lb (lower bound) ao definir x\n",
        "## Restrição y binário já add ao definir y\n",
        "\n",
        "# Otimização\n",
        "model.optimize()\n",
        "\n",
        "\n",
        "# Escrita do modelo em formato LP\n",
        "model.write('morango.lp')\n",
        "\n",
        "# Salva a solução do problema\n",
        "model.write('morango.sol')\n",
        "\n",
        "# Exibe os resultados\n",
        "if model.status == GRB.OPTIMAL:\n",
        "    for i in range(n):\n",
        "        print(f\"x[{i}] = {x[i].X}\")\n",
        "        print(f\"y[{i}] = {y[i].X}\")\n",
        "    print(f\"z = {model.ObjVal}\")\n",
        "\n",
        "    # Tempo total de trabalho\n",
        "    ttrab = sum(tprod[i] * x[i].X + tprep[i] * y[i].X for i in range(n))\n",
        "    print(\"Tempo de trabalho (minutos): \", ttrab)\n",
        "\n",
        "else:\n",
        "    print(\"Solução ótima não encontrada.\")"
      ]
    },
    {
      "cell_type": "code",
      "source": [
        "demanda = [30, 30, 30]\n",
        "\n",
        "tdemanda = sum(tprod[i] * demanda[i] + tprep[i] for i in range(n))\n",
        "print(\"Tempo total demanda (minutos): \", tdemanda)"
      ],
      "metadata": {
        "colab": {
          "base_uri": "https://localhost:8080/"
        },
        "id": "hIkcq_GwNfFQ",
        "outputId": "034ff4eb-4a93-4cf6-a959-11c11539f554"
      },
      "execution_count": 24,
      "outputs": [
        {
          "output_type": "stream",
          "name": "stdout",
          "text": [
            "Tempo total demanda (minutos):  225.0\n"
          ]
        }
      ]
    }
  ]
}